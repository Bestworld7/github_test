{
 "cells": [
  {
   "cell_type": "code",
   "id": "initial_id",
   "metadata": {
    "collapsed": true,
    "ExecuteTime": {
     "end_time": "2024-05-16T12:38:28.131684Z",
     "start_time": "2024-05-16T12:38:27.192075Z"
    }
   },
   "source": "import pandas as pd",
   "outputs": [],
   "execution_count": 1
  },
  {
   "metadata": {
    "ExecuteTime": {
     "end_time": "2024-05-16T12:39:16.868022Z",
     "start_time": "2024-05-16T12:39:15.700690Z"
    }
   },
   "cell_type": "code",
   "source": [
    "import numpy as np\n",
    "import seaborn as sns \n",
    "import matplotlib.pyplot as plt "
   ],
   "id": "f29d64c6d576f2ee",
   "outputs": [],
   "execution_count": 2
  },
  {
   "metadata": {
    "ExecuteTime": {
     "end_time": "2024-05-16T12:41:49.187244Z",
     "start_time": "2024-05-16T12:41:49.185001Z"
    }
   },
   "cell_type": "code",
   "source": "import pickle",
   "id": "c68d79d975903e97",
   "outputs": [],
   "execution_count": 3
  },
  {
   "metadata": {
    "ExecuteTime": {
     "end_time": "2024-05-16T12:46:10.587116Z",
     "start_time": "2024-05-16T12:46:10.583474Z"
    }
   },
   "cell_type": "code",
   "source": [
    "def std_weight(height, gender):\n",
    "    if gender == '남':\n",
    "        return round(height/100 * height/100 * 22 ,2)\n",
    "    else:\n",
    "        return round(height/100 * height/100 * 21 ,2)\n",
    "\n",
    "std_weight(175,'남')    "
   ],
   "id": "e6c33e1dc644d2c5",
   "outputs": [
    {
     "data": {
      "text/plain": [
       "67.38"
      ]
     },
     "execution_count": 4,
     "metadata": {},
     "output_type": "execute_result"
    }
   ],
   "execution_count": 4
  },
  {
   "metadata": {},
   "cell_type": "code",
   "outputs": [],
   "execution_count": null,
   "source": "",
   "id": "580d584d63e3bea7"
  }
 ],
 "metadata": {
  "kernelspec": {
   "display_name": "Python 3",
   "language": "python",
   "name": "python3"
  },
  "language_info": {
   "codemirror_mode": {
    "name": "ipython",
    "version": 2
   },
   "file_extension": ".py",
   "mimetype": "text/x-python",
   "name": "python",
   "nbconvert_exporter": "python",
   "pygments_lexer": "ipython2",
   "version": "2.7.6"
  }
 },
 "nbformat": 4,
 "nbformat_minor": 5
}
